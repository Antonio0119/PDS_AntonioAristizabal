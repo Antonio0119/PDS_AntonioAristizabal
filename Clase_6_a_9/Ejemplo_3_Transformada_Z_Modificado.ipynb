{
 "cells": [
  {
   "cell_type": "markdown",
   "id": "ed0f4430-a997-41c0-91ba-791a6c59329d",
   "metadata": {},
   "source": [
    "`Modificación por Antonio Aristizábal: Se agrega un nuevo ejemplo de transformada Z de una secuencia.`<br>\n",
    "__[Repositorio Github](https://github.com/Antonio0119/PDS_AntonioAristizabal)__"
   ]
  },
  {
   "cell_type": "markdown",
   "id": "52989373-ef7e-4fa4-9021-2883cf507cf2",
   "metadata": {},
   "source": [
    "# Ejemplo 3. Transformada Z\n"
   ]
  },
  {
   "cell_type": "code",
   "execution_count": 1,
   "id": "89ce8619-17a4-467a-ad14-66daa0e8967b",
   "metadata": {},
   "outputs": [],
   "source": [
    "from sympy import *\n",
    "import numpy as np\n",
    "import matplotlib.pyplot as plt"
   ]
  },
  {
   "cell_type": "markdown",
   "id": "c4018b53-5118-410f-8a20-1ff0629de162",
   "metadata": {},
   "source": [
    "### Transformada Z de una secuencia"
   ]
  },
  {
   "cell_type": "code",
   "execution_count": 2,
   "id": "cd9a5288-3b49-4329-b896-1137fc675f97",
   "metadata": {},
   "outputs": [],
   "source": [
    "def transZsec(arr, zero):\n",
    "    # La funcion recibe un arreglo quees al cual se le va a sacar la\n",
    "    # transformada y un dato 'zero' que es la posición del cero de la secuencia.\n",
    "    Z = Symbol('Z')\n",
    "    pot = zero\n",
    "    for i in arr:\n",
    "        print(f'X({-pot}) =', i*np.power(Z, pot))\n",
    "        pot -= 1"
   ]
  },
  {
   "cell_type": "code",
   "execution_count": 3,
   "id": "ebfb17e7-6ac5-4670-a23b-8a729a769649",
   "metadata": {},
   "outputs": [],
   "source": [
    "arr = np.array([1, 2, 3, 4, 5])"
   ]
  },
  {
   "cell_type": "code",
   "execution_count": 8,
   "id": "6aacafc2-009a-4f96-8f58-c1eda969ac34",
   "metadata": {},
   "outputs": [
    {
     "name": "stdout",
     "output_type": "stream",
     "text": [
      "X(-2) = Z**2\n",
      "X(-1) = 2*Z\n",
      "X(0) = 3\n",
      "X(1) = 4/Z\n",
      "X(2) = 5/Z**2\n"
     ]
    }
   ],
   "source": [
    "arr_trans = transZsec(arr, 2)"
   ]
  },
  {
   "cell_type": "markdown",
   "id": "0f2924f8-2b59-481f-b61f-13d2d120de7e",
   "metadata": {},
   "source": [
    "Nuevo ejemplo transformada Z de una secuencia:"
   ]
  },
  {
   "cell_type": "code",
   "execution_count": 27,
   "id": "cb8b4a68-9049-47e0-bca7-171096db54fa",
   "metadata": {},
   "outputs": [
    {
     "name": "stdout",
     "output_type": "stream",
     "text": [
      "X(-1) = 5*Z\n",
      "X(0) = 3\n",
      "X(1) = 1/Z\n",
      "X(2) = 0\n",
      "X(3) = 2/Z**3\n",
      "X(4) = 6/Z**4\n"
     ]
    }
   ],
   "source": [
    "arr = np.array([5, 3, 1, 0, 2, 6])\n",
    "arr_trans = transZsec(arr, 1)"
   ]
  },
  {
   "cell_type": "markdown",
   "id": "0fa01ba6-7500-41d3-92cb-f9215c348510",
   "metadata": {},
   "source": [
    "### Transformada Z de una función de la forma $a^n u(n)$"
   ]
  },
  {
   "cell_type": "code",
   "execution_count": 5,
   "id": "f082ab95-d4a5-4d2a-9b54-1b80d212c40d",
   "metadata": {},
   "outputs": [],
   "source": [
    "def transZfunc(a, despla, desplu):\n",
    "    # Esta función recibe el valor de a para calcular la\n",
    "    # transformada por medio de la serie geométrica.\n",
    "    Z = Symbol('Z')\n",
    "    result = ''\n",
    "    if (desplu == despla):\n",
    "        result += str(np.power(Z, -desplu)) + '('\n",
    "    if (desplu != 0):\n",
    "        for i in range(desplu):\n",
    "            result += str(-np.power(a/Z, i))\n",
    "    result += '+' + str(1/(1-a*np.power(Z, -1))) + ')'\n",
    "    return result"
   ]
  },
  {
   "cell_type": "markdown",
   "id": "fe447f54-48a8-4d02-b0ef-cbd144e356ad",
   "metadata": {},
   "source": [
    "Supongamos que se ingresa: $x(n)=(\\frac{1}{4})^{n-1} u(n-1)$"
   ]
  },
  {
   "cell_type": "code",
   "execution_count": 19,
   "id": "c6647fca-1517-4d8d-8cce-8277f5695797",
   "metadata": {},
   "outputs": [
    {
     "data": {
      "text/plain": [
       "'1/Z(-1+1/(1 - 0.25/Z))'"
      ]
     },
     "execution_count": 19,
     "metadata": {},
     "output_type": "execute_result"
    }
   ],
   "source": [
    "transZfunc(1/4, 1, 1)"
   ]
  },
  {
   "cell_type": "markdown",
   "id": "3186a0be-25ea-449f-950d-0dd5c46229c4",
   "metadata": {},
   "source": [
    "$X(Z)=-Z^{-1}+\\frac{Z^{-1}}{1-\\frac{Z^{-1}}{4}}$"
   ]
  }
 ],
 "metadata": {
  "kernelspec": {
   "display_name": "Python 3 (ipykernel)",
   "language": "python",
   "name": "python3"
  },
  "language_info": {
   "codemirror_mode": {
    "name": "ipython",
    "version": 3
   },
   "file_extension": ".py",
   "mimetype": "text/x-python",
   "name": "python",
   "nbconvert_exporter": "python",
   "pygments_lexer": "ipython3",
   "version": "3.8.8"
  }
 },
 "nbformat": 4,
 "nbformat_minor": 5
}
